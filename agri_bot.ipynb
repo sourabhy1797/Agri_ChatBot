{
 "cells": [
  {
   "cell_type": "code",
   "execution_count": 1,
   "metadata": {},
   "outputs": [],
   "source": [
    "from langchain_community.document_loaders import PyPDFLoader"
   ]
  },
  {
   "cell_type": "code",
   "execution_count": 16,
   "id": "fa23a06e",
   "metadata": {},
   "outputs": [],
   "source": [
    "loader = PyPDFLoader(\"Documents/Building-Soils-for-Better-Crops.pdf\")"
   ]
  },
  {
   "cell_type": "code",
   "execution_count": 17,
   "id": "7e038abc",
   "metadata": {},
   "outputs": [],
   "source": [
    "pages = loader.load_and_split()"
   ]
  },
  {
   "cell_type": "code",
   "execution_count": 18,
   "id": "f820f2e4",
   "metadata": {},
   "outputs": [
    {
     "data": {
      "text/plain": [
       "[Document(page_content='BUILDING SOILS FOR BETTER CROPS: ECOLOGICAL MANAGEMENT FOR HEALTHY SOILS3\\nChapter 1\\nHEALTHY SOILS\\nAll over the country [some soils are] worn out, depleted, exhausted, almost dead.  \\nBut here is comfort: These soils possess possibilities and may be restored to high  \\nproductive power, provided you do a few simple things. \\n—C.W. BURKETT, 1907 \\nIt should come as no surprise that many cultures \\nhave considered soil central to their lives. After all, peo-\\nple were aware that the food they ate grew from the soil. Our ancestors who first practiced agriculture must have been amazed to see life reborn each year when seeds placed in the ground germinated and then grew to matu -\\nrity. In the Hebrew Bible, the name given to the first man,\\n Adam, is the masculine version of the word “earth” \\nor “soil” (adama). The name for the first woman, Eve (or Hava in Hebrew), comes from the word for “living.” Soil and human life were considered to be intertwined. A particular reverence for the soil has been an import -\\nant part of the cultures of many civilizations, including Native American tribes. In reality,\\n soil is the basis of all \\nterrestrial life. We humans are derived from soil. Aside from when we eat fish and other aquatic organisms, we obtain the essential elements in our bodies, such as the calcium and phosphorus in our bones and teeth, the nitrogen in our proteins, the iron in our red blood cells, and so on, all by directly or indirectly consuming plants that took these from the soil.\\nAlthough we focus on the critical role soils play in \\ngrowing crops, it’s important to keep in mind that soils also provide other important services. Soils govern whether rainfall runs off the field or enters the ground and eventually helps recharge underground aquifers.  \\nWhen a soil is stripped of vegetation and starts to degrade,\\n excessive runoff and flooding are more com -\\nmon. Soils also absorb, release and transform many different chemical compounds. For example,\\n they help \\nto purify wastes flowing from the septic system drain fields in your backyard. Soils also provide habitats for a diverse group of organisms, many of which are very important, such as those bacteria that produce antibiot -\\nics and fungi that help plants obtain nutrients and water and improve soil structure.\\n Soil organic matter stores \\na huge amount of atmospheric carbon. Carbon, in the form of carbon dioxide, is a greenhouse gas associated \\nPhoto by Dan Anderson', metadata={'source': 'Documents/two_chapters.pdf', 'page': 0}),\n",
       " Document(page_content='BUILDING SOILS FOR BETTER CROPS: ECOLOGICAL MANAGEMENT FOR HEALTHY SOILS4\\nCHAPTER 1 HEALTHY SOILSwith global warming. So, by increasing soil organic \\nmatter, more carbon can be stored in soils, reducing the potential for climate change. We also use soils as a foun -\\ndation for roads, industry and our communities. \\nHOW IS SOIL MADE?\\nBefore we consider what makes a soil rich or poor, we should learn how it comes into existence. Soil consists of four parts: solid mineral particles, water, air and organic matter. The particles are generally of sand, silt and clay size (and sometimes also larger fragments) and were derived from weathering of rocks or deposition of sediments. They mainly consist of silicon, oxygen, aluminum, potassium, calcium, magnesium, phosphorus, potassium and other minor chemical elements. But these elements are generally locked up in the crystalline particles and are not directly available to plants. However, unlike solid rock, soil particles have pore spaces in between them that allow them to hold water through capillary action: the soil can act like a sponge. This is an important process because it allows the soil water, with the help of carbon dioxide in the air, to very slowly dissolve the mineral particles and release nutrients—we call this chemical weathering. The soil water and dissolved nutrients, together referred to as the soil solution, are now available for plants. The air in the soil, which is in contact with the air above ground, provides roots with oxygen and helps remove excess carbon dioxide from respiring root cells. \\nWhat role do plants and soil organisms play? They  \\nfacilitate the cycling of organic matter and of the nutri-ents,\\n which allows soil to continue supporting life. \\nPlants’ leaves capture solar energy and atmospheric carbon from carbon dioxide (CO\\n2) through photosyn-\\nthesis. The plant uses this carbon to build the sugars, starches and all the other organic chemicals it needs to live and reproduce. At the same time,\\n plant roots absorb \\nboth soil water and the dissolved nutrients (nitrogen is added to soils or directly to plants through associated biological processes). Now, the mineral nutrients that were derived from the soil are stored in the plant bio -\\nmass in organic form in combination with the carbon from the atmosphere\\n. The seeds tend to be especially \\nhigh in nutrients, but the stems and leaves also contain important elements. Eventually plants die and their leaves and stems return to the soil surface. Sometimes plants don’t return directly to the soil surface, but rather are eaten by animals. These animals extract nutrients and energy for themselves and then defecate what remains. Soil organisms help to incorporate both manure and plant residues into the soil, while the roots that die, of course, are already in the soil. This dead plant material and manure become a feast for a wide variety of organisms—beetles, spiders, worms, fungi, bacteria, etc.—that in turn benefit from the energy and nutrients the plants had previously stored in their biomass. At the same time, the decomposition of organic material makes nutrients available again to plants, now completing the cycle. \\nBut is it a perfect cycle? Not quite, because it has not \\nevolved to function under intensive agricultural produc -\\ntion. The chemical weathering process that adds new nutrients into the cycle continues at a very slow pace.', metadata={'source': 'Documents/two_chapters.pdf', 'page': 1}),\n",
       " Document(page_content='evolved to function under intensive agricultural produc -\\ntion. The chemical weathering process that adds new nutrients into the cycle continues at a very slow pace.\\n \\nOn the other end of the cycle the soil captures some of the organic matter and puts it “in storage.” This happens because soil mineral particles, especially clays, form bonds with the organic molecules and thereby protect them from further decomposition by soil organisms. In addition, organic matter particles inside soil aggregates are protected from decomposition. Over a long time, the soil builds up a considerable reservoir of nutrients from slowly decomposing minerals and carbon, and of energy from plant residue in the form of organic matter—similar to putting a small amount of money into a retirement account each month. This organic matter storage system is especially impressive with prairie and steppe soils in temperate regions (places like the central United States, Argentina and Ukraine) because natural', metadata={'source': 'Documents/two_chapters.pdf', 'page': 1})]"
      ]
     },
     "execution_count": 18,
     "metadata": {},
     "output_type": "execute_result"
    }
   ],
   "source": [
    "pages[:3]"
   ]
  },
  {
   "cell_type": "code",
   "execution_count": 19,
   "id": "36f8dc5b",
   "metadata": {},
   "outputs": [
    {
     "name": "stdout",
     "output_type": "stream",
     "text": [
      "{'source': 'Documents/two_chapters.pdf', 'page': 0}\n",
      "{'source': 'Documents/two_chapters.pdf', 'page': 1}\n",
      "{'source': 'Documents/two_chapters.pdf', 'page': 1}\n"
     ]
    }
   ],
   "source": [
    "for i in range(3):\n",
    "    print(pages[i].metadata)"
   ]
  },
  {
   "cell_type": "code",
   "execution_count": 20,
   "id": "d853c572",
   "metadata": {},
   "outputs": [],
   "source": [
    "from langchain.text_splitter import RecursiveCharacterTextSplitter\n",
    "text_splitter = RecursiveCharacterTextSplitter(chunk_size=1000, chunk_overlap=20)\n",
    "documents = text_splitter.split_documents(pages)"
   ]
  },
  {
   "cell_type": "code",
   "execution_count": 21,
   "id": "7e00f4ef",
   "metadata": {},
   "outputs": [
    {
     "name": "stdout",
     "output_type": "stream",
     "text": [
      "23 vs 84\n"
     ]
    }
   ],
   "source": [
    "print(f\"{len(pages)} vs {len(documents)}\")"
   ]
  },
  {
   "cell_type": "code",
   "execution_count": 22,
   "id": "0ad49f93",
   "metadata": {},
   "outputs": [],
   "source": [
    "import os\n",
    "from dotenv import load_dotenv\n",
    "\n",
    "load_dotenv()\n",
    "\n",
    "os.environ[\"LANGCHAIN_TRACING_V2\"]=\"true\"\n",
    "os.environ[\"LANGCHAIN_API_KEY\"]=os.getenv(\"LANGCHAIN_API_KEY\")\n",
    "os.environ[\"OPENAI_API_KEY\"]=os.getenv(\"OPENAI_API_KEY\")\n",
    "os.environ[\"GROQ_API_KEY\"]=os.getenv(\"GROQ_API_KEY\")\n",
    "open_ai_key = os.getenv(\"OPENAI_API_KEY\")"
   ]
  },
  {
   "cell_type": "code",
   "execution_count": 23,
   "id": "4522c8ff",
   "metadata": {},
   "outputs": [],
   "source": [
    "from langchain.embeddings import OllamaEmbeddings\n",
    "embeddings=OllamaEmbeddings()"
   ]
  },
  {
   "cell_type": "code",
   "execution_count": 24,
   "id": "bbf7a8d4",
   "metadata": {},
   "outputs": [],
   "source": [
    "from langchain_community.vectorstores import FAISS\n",
    "vector = FAISS.from_documents(documents, embeddings)"
   ]
  },
  {
   "cell_type": "code",
   "execution_count": 33,
   "id": "b47b4c5b",
   "metadata": {},
   "outputs": [],
   "source": [
    "vector.save_local(\"faiss_index_full_book\")"
   ]
  },
  {
   "cell_type": "code",
   "execution_count": 35,
   "id": "d92b2326",
   "metadata": {},
   "outputs": [],
   "source": [
    "vector = FAISS.load_local(\"faiss_index_full_book\", embeddings, allow_dangerous_deserialization=True)\n"
   ]
  },
  {
   "cell_type": "code",
   "execution_count": 25,
   "id": "3ea09a12",
   "metadata": {},
   "outputs": [],
   "source": [
    "from langchain_groq import ChatGroq\n",
    "groq_api_key = os.environ['GROQ_API_KEY']\n",
    "llm=ChatGroq(groq_api_key=groq_api_key,\n",
    "             model_name=\"mixtral-8x7b-32768\")"
   ]
  },
  {
   "cell_type": "code",
   "execution_count": 26,
   "id": "670ee848",
   "metadata": {},
   "outputs": [],
   "source": [
    "from langchain_core.prompts import ChatPromptTemplate\n",
    "prompt=ChatPromptTemplate.from_template(\n",
    "\"\"\"\n",
    "Answer the questions based on the provided context only.\n",
    "Please provide the most accurate response based on the question\n",
    "<context>\n",
    "{context}\n",
    "<context>\n",
    "Questions:{input}\n",
    "\n",
    "\"\"\"\n",
    ")"
   ]
  },
  {
   "cell_type": "code",
   "execution_count": 27,
   "id": "9223822e",
   "metadata": {},
   "outputs": [],
   "source": [
    "from langchain.chains.combine_documents import create_stuff_documents_chain\n",
    "document_chain = create_stuff_documents_chain(llm, prompt)"
   ]
  },
  {
   "cell_type": "code",
   "execution_count": 28,
   "id": "880e7b21",
   "metadata": {},
   "outputs": [],
   "source": [
    "from langchain.chains import create_retrieval_chain\n",
    "retriever = vector.as_retriever()\n",
    "retrieval_chain = create_retrieval_chain(retriever, document_chain)"
   ]
  },
  {
   "cell_type": "code",
   "execution_count": 29,
   "id": "7543b782",
   "metadata": {},
   "outputs": [
    {
     "name": "stdout",
     "output_type": "stream",
     "text": [
      "Soil provides several essential services, including:\n",
      "\n",
      "1. Supporting plant growth: Soil provides a physical foundation for plants to grow in, anchoring their roots and supplying water and nutrients.\n",
      "2. Recycling nutrients: Soil acts as a natural recycling system, breaking down organic matter and releasing nutrients that plants need to grow.\n",
      "3. Filtering and buffering: Soil can filter and buffer pollutants, helping to protect groundwater and surface water from contamination.\n",
      "4. Carbon sequestration: Soil can store large amounts of carbon, helping to mitigate climate change.\n",
      "5. Habitat: Soil provides a habitat for a diverse range of organisms, including bacteria, fungi, and small animals, which contribute to soil health and functioning.\n",
      "6. Supporting biodiversity: Soil supports a wide range of plant and animal species, contributing to biodiversity and ecosystem health.\n",
      "\n",
      "In the provided context, the emphasis is on the role of soil in supporting plant growth and nutrient cycling. The text highlights the importance of maintaining healthy soil organic matter and minimizing nutrient leakage. The comparison between natural grasslands and agricultural soils illustrates the impact of human activities on soil health and functioning.\n"
     ]
    }
   ],
   "source": [
    "prompt=(\"What all services soil provides\")\n",
    "response=retrieval_chain.invoke({\"input\":prompt})\n",
    "print(response['answer'])"
   ]
  },
  {
   "cell_type": "code",
   "execution_count": 32,
   "id": "d7bec1a8",
   "metadata": {},
   "outputs": [
    {
     "name": "stdout",
     "output_type": "stream",
     "text": [
      "Here are some measures you can take to have healthy soils that are relatively easy to perform:\n",
      "\n",
      "1. Add Organic Matter: Incorporating organic matter such as compost, leaf litter, or well-rotted manure can significantly improve soil health. Organic matter helps to improve soil structure, increase water-holding capacity, and provide nutrients for plants.\n",
      "\n",
      "2. Practice Crop Rotation: Rotating crops can help to break disease cycles, reduce pest pressure, and improve soil structure. By varying the types of crops grown in a particular area, you can also help to maintain soil nutrient levels.\n",
      "\n",
      "3. Minimize Tillage: Tillage can disrupt soil structure, lead to erosion, and release carbon dioxide into the atmosphere. Minimizing tillage can help to maintain soil structure, increase soil organic matter, and reduce erosion.\n",
      "\n",
      "4. Use Cover Crops: Cover crops can help to protect soil from erosion, add organic matter, and suppress weeds. They can also help to improve soil structure and increase soil biodiversity.\n",
      "\n",
      "5. Mulch: Mulching can help to conserve soil moisture, reduce erosion, and suppress weeds. Organic mulches, such as straw or wood chips, can also add organic matter to the soil as they break down.\n",
      "\n",
      "6. Test Soil: Testing soil periodically can help you to understand its nutrient levels, pH, and organic matter content. This information can help you to make informed decisions about fertilizer applications and other soil management practices.\n",
      "\n",
      "7. Reduce Compaction: Soil compaction can reduce soil porosity, limit root growth, and reduce water infiltration. Avoiding heavy equipment on wet soils and using techniques such as subsoiling can help to reduce compaction.\n",
      "\n",
      "By implementing these relatively easy measures, you can help to improve soil health and support productive and sustainable agriculture.\n"
     ]
    }
   ],
   "source": [
    "prompt=(\"what all maesure i can take to have healthy soils which are relatively easy to perform\")\n",
    "response=retrieval_chain.invoke({\"input\":prompt})\n",
    "print(response['answer'])\n",
    "\n"
   ]
  },
  {
   "cell_type": "code",
   "execution_count": 40,
   "id": "2022e4eb",
   "metadata": {},
   "outputs": [
    {
     "name": "stdout",
     "output_type": "stream",
     "text": [
      "Here are some potential questions that can be asked based on the provided context:\n",
      "\n",
      "1. What is the concept of risk in relation to weather extremes and their impact on farms and communities?\n",
      "2. How does soil health affect the likelihood of wind erosion?\n",
      "3. What are the three aspects of vulnerability to weather-related challenges?\n",
      "4. How does soil aggregation affect the infiltration capacity of the soil?\n",
      "5. What are the effects of soil degradation on excessive runoff and flooding?\n",
      "6. How do soils help to purify wastes from septic system drain fields?\n",
      "7. What is the role of soil organic matter in relation to atmospheric carbon?\n",
      "8. How do soils provide habitats for diverse organisms, including those that produce antibiotics and improve soil structure?\n",
      "9. Who are the authors of the studies and publications mentioned in the context?\n",
      "10. What are the figures in the context illustrating or depicting?\n",
      "11. How does vegetation affect soil degradation and runoff?\n",
      "12. What are the different processes that soils absorb, release and transform chemical compounds?\n"
     ]
    }
   ],
   "source": [
    "prompt=(\"what are all possible questions I can ask from you?\")\n",
    "response=retrieval_chain.invoke({\"input\":prompt})\n",
    "print(response['answer'])\n",
    "\n"
   ]
  },
  {
   "cell_type": "code",
   "execution_count": 31,
   "id": "55a31566",
   "metadata": {},
   "outputs": [
    {
     "name": "stdout",
     "output_type": "stream",
     "text": [
      "its or the Haber-Bosch process for producing nitrogen fertilizers.\n",
      " But the need to replace the organic matter \n",
      "(carbon) was mostly ignored until recently. \n",
      "The organic matter in the soil is more complex and \n",
      "plays many important roles in soils that we will discuss in Chapter 2. Not only does it store and supply nutrients and energy for organisms, it also helps form aggregates when mineral and organic particles clump together. When it is made up of large amounts of different-sized aggregates, the soil contains more spaces for storing water and allowing gas exchange, as oxygen enters for use by plant roots and by soil organisms and the carbon dioxide produced by organisms leaves the soil. So in summary, the mineral particles and pore spaces form the basic structure of the soil, but the organic matter is mostly what makes it fertile.\n",
      "WHAT KIND OF SOIL DO YOU WANT? \n",
      "Farmers sometimes use the term soil health  to describe\n",
      "--------------------------------\n",
      "Soil degradation caused significant harm to many \n",
      "early civilizations, including the drastic loss of produc -\n",
      "tivity resulting from soil erosion in many locations in the Middle East (such as present day Israel, Jordan, Iraq and L\n",
      "ebanon) and southern Europe. This led either \n",
      "to colonial ventures to help feed the citizenry—like the Romans invading the Egyptian breadbasket—or to the decline of the civilization. The only exceptions were the convergence zones in the landscapes, valleys and deltas where the nutrients and sediments flow together and fertility can be maintained for many centuries (more about this in Chapter 7).\n",
      "Tropical rainforest conditions (high temperature  \n",
      "and rainfall, with most of the organic matter near the soil surface) may lead to signifi\n",
      "cant soil degradation\n",
      "--------------------------------\n",
      "BUILDING SOILS FOR BETTER CROPS: ECOLOGICAL MANAGEMENT FOR HEALTHY SOILS6\n",
      "CHAPTER 1 HEALTHY SOILSdifferences in soils that are the result of the natural \n",
      "factors that formed the soil, such as the parent material, climate, etc. Thereby, an analogy with humans is apt: We may have some natural differences from our genetic backgrounds (taller or shorter, fairer or darker, etc.), but our health still strongly affects the way we can function and is greatly influenced by how we treat our bodies. \n",
      "In agriculture, soil health becomes a question of  \n",
      "how good the soil is at supporting the growth of high- \n",
      "yielding, high-quality and healthy crops. Given this, how \n",
      "then would you know a high-quality soil from a lower-  \n",
      "quality soil? Most farmers and gardeners would say they know one when they see one. Farmers can certainly tell you which of the soils on their farms are of low,\n",
      " medium\n",
      "--------------------------------\n",
      "BUILDING SOILS FOR BETTER CROPS: ECOLOGICAL MANAGEMENT FOR HEALTHY SOILS12\n",
      "CHAPTER 1 HEALTHY SOILSvitamins and that half the premature deaths that occur\n",
      "--------------------------------\n"
     ]
    }
   ],
   "source": [
    "for i, doc in enumerate(response[\"context\"]):\n",
    "    print(doc.page_content)\n",
    "    print(\"--------------------------------\")"
   ]
  },
  {
   "cell_type": "code",
   "execution_count": 46,
   "id": "ef8b91f2",
   "metadata": {},
   "outputs": [
    {
     "data": {
      "text/plain": [
       "[Document(page_content='In devel -\\noped societies nutritional deficiencies are rare because people obtain food from diverse sources.\\n For example, \\nregional soil selenium deficiency does not impact people  \\nwhen they also eat nuts from other regions. (In developed  \\nsocieties, the concern is increasingly about unhealthy diet choices and the affordability of healthy food.)\\nHumans also benefi\\nt from organic plant compounds', metadata={'source': 'Documents/HealthySoils.pdf', 'page': 8}),\n",
       " Document(page_content='the nurturing process of converting a degraded or low-quality soil into a truly high-quality one requires understanding, thought and significant actions. It is a process that mirrors the building of soil through natural processes where plants and organic matter are key elements. This is also true for maintaining or \\nFigure 1.2. Agricultural soil (left) and natural soil (grassland; right) from \\nadjacent sites in the U.S. Great Plains. Agricultural soil has lower soil organic matter and higher density. Photos by Kirsten Kurtz.\\n… What now remains of the formerly rich land', metadata={'source': 'Documents/HealthySoils.pdf', 'page': 5}),\n",
       " Document(page_content='BUILDING SOILS FOR BETTER CROPS: ECOLOGICAL MANAGEMENT FOR HEALTHY SOILS12\\nCHAPTER 1 HEALTHY SOILSvitamins and that half the premature deaths that occur', metadata={'source': 'Documents/HealthySoils.pdf', 'page': 9}),\n",
       " Document(page_content='BUILDING SOILS FOR BETTER CROPS: ECOLOGICAL MANAGEMENT FOR HEALTHY SOILS5\\nCHAPTER 1 HEALTHY SOILSgrasslands have deep roots and high organic matter \\nturnover (Figure 1.1).\\nIn a natural system this process is quite efficient \\nand has little nutrient leakage. It maximizes the use of mineral nutrients and solar energy until the soil has reached its maximum capacity to store organic matter (more about this in Chapter 3). But when lands were first developed for agriculture, plowing was used to suppress weeds and to prepare the soil for planting grain crops. Plowing was also beneficial because it acceler -\\nated organic matter decomposition and released more nutrients than unplowed land.\\n This was a major rift in', metadata={'source': 'Documents/HealthySoils.pdf', 'page': 2})]"
      ]
     },
     "execution_count": 46,
     "metadata": {},
     "output_type": "execute_result"
    }
   ],
   "source": [
    "response[\"context\"]"
   ]
  },
  {
   "cell_type": "code",
   "execution_count": null,
   "id": "644707e4",
   "metadata": {},
   "outputs": [],
   "source": []
  }
 ],
 "metadata": {
  "kernelspec": {
   "display_name": "Python 3",
   "language": "python",
   "name": "python3"
  },
  "language_info": {
   "codemirror_mode": {
    "name": "ipython",
    "version": 3
   },
   "file_extension": ".py",
   "mimetype": "text/x-python",
   "name": "python",
   "nbconvert_exporter": "python",
   "pygments_lexer": "ipython3",
   "version": "3.9.0"
  }
 },
 "nbformat": 4,
 "nbformat_minor": 5
}
